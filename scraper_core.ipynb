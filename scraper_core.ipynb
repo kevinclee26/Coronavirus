{
 "cells": [
  {
   "cell_type": "code",
   "execution_count": 34,
   "metadata": {},
   "outputs": [],
   "source": [
    "from bs4 import BeautifulSoup\n",
    "import re\n",
    "import os\n",
    "import pandas as pd"
   ]
  },
  {
   "cell_type": "code",
   "execution_count": 3,
   "metadata": {},
   "outputs": [],
   "source": [
    "filepath = os.path.join(\"worldometer.html\")\n",
    "with open(filepath, encoding='utf-8') as file:\n",
    "    html = file.read()\n",
    "soup=BeautifulSoup(html, 'html.parser')"
   ]
  },
  {
   "cell_type": "code",
   "execution_count": 44,
   "metadata": {},
   "outputs": [],
   "source": [
    "table=soup.find('table', id='main_table_countries_today')"
   ]
  },
  {
   "cell_type": "code",
   "execution_count": 100,
   "metadata": {},
   "outputs": [],
   "source": [
    "table_columns=['country_other', 'total_cases', 'new_cases', 'total_deaths', 'new_deaths', 'total_recovered', 'active_cases', 'serioues_critical', 'tot_cases_per_1M_pop']\n",
    "table_data_list=[]\n",
    "# i=0\n",
    "for each_row in table.find('tbody').find_all('tr'):\n",
    "    i=0\n",
    "    row_data={}\n",
    "    row_data_list=[]\n",
    "    for each_cell in each_row.find_all('td'):\n",
    "        data_value=each_cell.text.strip()\n",
    "        if not i == 0: \n",
    "            try: \n",
    "                data_value=re.sub('[^\\d\\.]', '', data_value)\n",
    "                if data_value % 1: \n",
    "                    data_value=int(data_value)\n",
    "            except: \n",
    "                pass\n",
    "        row_data[table_columns[i]]=data_value\n",
    "        row_data_list.append(data_value)\n",
    "        i+=1\n",
    "    table_data.append(row_data)\n",
    "    table_data_list.append(row_data_list)"
   ]
  },
  {
   "cell_type": "code",
   "execution_count": 85,
   "metadata": {},
   "outputs": [
    {
     "data": {
      "text/plain": [
       "'0'"
      ]
     },
     "execution_count": 85,
     "metadata": {},
     "output_type": "execute_result"
    }
   ],
   "source": [
    "'{:.0f}'.format(0.2)"
   ]
  },
  {
   "cell_type": "code",
   "execution_count": 101,
   "metadata": {},
   "outputs": [],
   "source": [
    "def html_table(list_of_list):\n",
    "    html_string='<table>'\n",
    "    for row in list_of_list:\n",
    "        row_in_str=[str(data) for data in row]\n",
    "#         html_string=html_string+'<tr><td>'\n",
    "#         html_string=html_string+'</td><td>'.join(row_in_str)\n",
    "#         html_string=html_string+'</td></tr>'\n",
    "        html_string=html_string+'<tr><td>'+'</td><td>'.join(row_in_str)+'</td></tr>'\n",
    "    return html_string"
   ]
  },
  {
   "cell_type": "code",
   "execution_count": 99,
   "metadata": {},
   "outputs": [
    {
     "data": {
      "text/plain": [
       "0"
      ]
     },
     "execution_count": 99,
     "metadata": {},
     "output_type": "execute_result"
    }
   ],
   "source": [
    "l = [22, 13, 45, 50, 98, 69, 43, 44, 1]\n",
    "[str(x+1) if x >= 45 else str(x+5) for x in l]\n",
    "\n",
    "22%1"
   ]
  },
  {
   "cell_type": "code",
   "execution_count": 102,
   "metadata": {
    "scrolled": true
   },
   "outputs": [
    {
     "data": {
      "text/plain": [
       "'<table><tr><td>China</td><td>81093</td><td>39</td><td>3270</td><td>9</td><td>72703</td><td>5120</td><td>1749</td><td>56</td></tr><tr><td>Italy</td><td>63927</td><td>4789</td><td>6077</td><td>601</td><td>7432</td><td>50418</td><td>3204</td><td>1057</td></tr><tr><td>USA</td><td>42163</td><td>8617</td><td>512</td><td>93</td><td>295</td><td>41356</td><td>1040</td><td>127</td></tr><tr><td>Spain</td><td>33089</td><td>4321</td><td>2207</td><td>435</td><td>3355</td><td>27527</td><td>2355</td><td>708</td></tr><tr><td>Germany</td><td>29056</td><td>4183</td><td>118</td><td>24</td><td>422</td><td>28516</td><td>23</td><td>347</td></tr><tr><td>Iran</td><td>23049</td><td>1411</td><td>1812</td><td>127</td><td>8376</td><td>12861</td><td></td><td>274</td></tr><tr><td>France</td><td>19856</td><td>3838</td><td>860</td><td>186</td><td>2200</td><td>16796</td><td>2082</td><td>304</td></tr><tr><td>S. Korea</td><td>8961</td><td>64</td><td>111</td><td>7</td><td>3166</td><td>5684</td><td>59</td><td>175</td></tr><tr><td>Switzerland</td><td>8547</td><td>1073</td><td>118</td><td>20</td><td>131</td><td>8298</td><td>141</td><td>988</td></tr><tr><td>UK</td><td>6650</td><td>967</td><td>335</td><td>54</td><td>135</td><td>6180</td><td>20</td><td>98</td></tr><tr><td>Netherlands</td><td>4749</td><td>545</td><td>213</td><td>34</td><td>2</td><td>4534</td><td>435</td><td>277</td></tr><tr><td>Austria</td><td>4468</td><td>886</td><td>21</td><td>5</td><td>9</td><td>4438</td><td>14</td><td>496</td></tr><tr><td>Belgium</td><td>3743</td><td>342</td><td>88</td><td>13</td><td>401</td><td>3254</td><td>322</td><td>323</td></tr><tr><td>Norway</td><td>2547</td><td>162</td><td>10</td><td>3</td><td>6</td><td>2531</td><td>41</td><td>470</td></tr><tr><td>Portugal</td><td>2060</td><td>460</td><td>23</td><td>9</td><td>14</td><td>2023</td><td>47</td><td>202</td></tr><tr><td>Sweden</td><td>2046</td><td>112</td><td>25</td><td>4</td><td>16</td><td>2005</td><td>104</td><td>203</td></tr><tr><td>Canada</td><td>2035</td><td>565</td><td>23</td><td>3</td><td>320</td><td>1692</td><td>1</td><td>54</td></tr><tr><td>Australia</td><td>1717</td><td>108</td><td>7</td><td></td><td>88</td><td>1622</td><td>11</td><td>67</td></tr><tr><td>Brazil</td><td>1696</td><td>150</td><td>25</td><td></td><td>2</td><td>1669</td><td>18</td><td>8</td></tr><tr><td>Turkey</td><td>1529</td><td>293</td><td>37</td><td>7</td><td></td><td>1492</td><td></td><td>18</td></tr><tr><td>Malaysia</td><td>1518</td><td>212</td><td>14</td><td>4</td><td>159</td><td>1345</td><td>57</td><td>47</td></tr><tr><td>Denmark</td><td>1450</td><td>55</td><td>24</td><td>11</td><td>1</td><td>1425</td><td>55</td><td>250</td></tr><tr><td>Israel</td><td>1442</td><td>371</td><td>1</td><td></td><td>41</td><td>1400</td><td>29</td><td>167</td></tr><tr><td>Czechia</td><td>1236</td><td>116</td><td>1</td><td></td><td>7</td><td>1228</td><td>19</td><td>115</td></tr><tr><td>Japan</td><td>1128</td><td>27</td><td>42</td><td>1</td><td>235</td><td>851</td><td>49</td><td>9</td></tr><tr><td>Ireland</td><td>1125</td><td>219</td><td>6</td><td>2</td><td>5</td><td>1114</td><td>29</td><td>228</td></tr><tr><td>Ecuador</td><td>981</td><td>192</td><td>18</td><td>4</td><td>3</td><td>960</td><td>2</td><td>56</td></tr><tr><td>Luxembourg</td><td>875</td><td>77</td><td>8</td><td></td><td>6</td><td>861</td><td>3</td><td>1398</td></tr><tr><td>Pakistan</td><td>873</td><td>97</td><td>6</td><td>1</td><td>13</td><td>854</td><td></td><td>4</td></tr><tr><td>Poland</td><td>749</td><td>115</td><td>8</td><td>1</td><td>13</td><td>728</td><td>3</td><td>20</td></tr><tr><td>Chile</td><td>746</td><td>114</td><td>2</td><td>1</td><td>11</td><td>733</td><td>7</td><td>39</td></tr><tr><td>Thailand</td><td>721</td><td>122</td><td>1</td><td></td><td>52</td><td>668</td><td>7</td><td>10</td></tr><tr><td>Diamond Princess</td><td>712</td><td></td><td>8</td><td></td><td>567</td><td>137</td><td>15</td><td></td></tr><tr><td>Finland</td><td>700</td><td>74</td><td>1</td><td></td><td>10</td><td>689</td><td>13</td><td>126</td></tr><tr><td>Greece</td><td>695</td><td>71</td><td>17</td><td>2</td><td>29</td><td>649</td><td>35</td><td>67</td></tr><tr><td>Iceland</td><td>588</td><td>20</td><td>1</td><td></td><td>51</td><td>536</td><td>14</td><td>1723</td></tr><tr><td>Indonesia</td><td>579</td><td>65</td><td>49</td><td>1</td><td>30</td><td>500</td><td></td><td>2</td></tr><tr><td>Romania</td><td>576</td><td>143</td><td>7</td><td>4</td><td>73</td><td>496</td><td>15</td><td>30</td></tr><tr><td>Saudi Arabia</td><td>562</td><td>51</td><td></td><td></td><td>19</td><td>543</td><td></td><td>16</td></tr><tr><td>Singapore</td><td>509</td><td>54</td><td>2</td><td></td><td>152</td><td>355</td><td>14</td><td>87</td></tr><tr><td>Qatar</td><td>501</td><td>7</td><td></td><td></td><td>33</td><td>468</td><td>6</td><td>174</td></tr><tr><td>India</td><td>499</td><td>103</td><td>10</td><td>3</td><td>34</td><td>455</td><td></td><td>0.4</td></tr><tr><td>Philippines</td><td>462</td><td>82</td><td>33</td><td>8</td><td>18</td><td>411</td><td>1</td><td>4</td></tr><tr><td>Slovenia</td><td>442</td><td>28</td><td>3</td><td>1</td><td></td><td>439</td><td>12</td><td>213</td></tr><tr><td>Russia</td><td>438</td><td>71</td><td>1</td><td></td><td>17</td><td>420</td><td></td><td>3</td></tr><tr><td>South Africa</td><td>402</td><td>128</td><td></td><td></td><td>4</td><td>398</td><td></td><td>7</td></tr><tr><td>Peru</td><td>395</td><td>32</td><td>5</td><td></td><td>1</td><td>389</td><td>19</td><td>12</td></tr><tr><td>Bahrain</td><td>377</td><td>43</td><td>2</td><td></td><td>164</td><td>211</td><td>3</td><td>222</td></tr><tr><td>Egypt</td><td>366</td><td>39</td><td>19</td><td>5</td><td>68</td><td>279</td><td></td><td>4</td></tr><tr><td>Hong Kong</td><td>356</td><td>38</td><td>4</td><td></td><td>100</td><td>252</td><td>4</td><td>47</td></tr><tr><td>Estonia</td><td>352</td><td>26</td><td></td><td></td><td>4</td><td>348</td><td>4</td><td>265</td></tr><tr><td>Mexico</td><td>316</td><td>65</td><td>2</td><td></td><td>4</td><td>310</td><td>1</td><td>2</td></tr><tr><td>Croatia</td><td>315</td><td>61</td><td>1</td><td></td><td>5</td><td>309</td><td>5</td><td>77</td></tr><tr><td>Panama</td><td>313</td><td></td><td>3</td><td></td><td>1</td><td>309</td><td>7</td><td>73</td></tr><tr><td>Colombia</td><td>277</td><td>46</td><td>3</td><td>1</td><td>3</td><td>271</td><td></td><td>5</td></tr><tr><td>Lebanon</td><td>267</td><td>19</td><td>4</td><td></td><td>8</td><td>255</td><td>4</td><td>39</td></tr><tr><td>Iraq</td><td>266</td><td>33</td><td>23</td><td>3</td><td>62</td><td>181</td><td></td><td>7</td></tr><tr><td>Argentina</td><td>266</td><td></td><td>4</td><td></td><td>27</td><td>235</td><td></td><td>6</td></tr><tr><td>Serbia</td><td>249</td><td>27</td><td>2</td><td></td><td>3</td><td>244</td><td>12</td><td>28</td></tr><tr><td>Dominican Republic</td><td>245</td><td>43</td><td>3</td><td></td><td></td><td>242</td><td></td><td>23</td></tr><tr><td>Armenia</td><td>235</td><td>41</td><td></td><td></td><td>2</td><td>233</td><td>6</td><td>79</td></tr><tr><td>Algeria</td><td>230</td><td>29</td><td>17</td><td></td><td>65</td><td>148</td><td></td><td>5</td></tr><tr><td>Bulgaria</td><td>201</td><td>14</td><td>3</td><td></td><td>3</td><td>195</td><td>8</td><td>29</td></tr><tr><td>UAE</td><td>198</td><td>45</td><td>2</td><td></td><td>41</td><td>155</td><td>2</td><td>20</td></tr><tr><td>Taiwan</td><td>195</td><td>26</td><td>2</td><td></td><td>28</td><td>165</td><td></td><td>8</td></tr><tr><td>Kuwait</td><td>189</td><td>1</td><td></td><td></td><td>30</td><td>159</td><td>5</td><td>44</td></tr><tr><td>San Marino</td><td>187</td><td>12</td><td>20</td><td></td><td>4</td><td>163</td><td>13</td><td>5511</td></tr><tr><td>Slovakia</td><td>186</td><td>1</td><td></td><td></td><td>7</td><td>179</td><td>2</td><td>34</td></tr><tr><td>Latvia</td><td>180</td><td>41</td><td></td><td></td><td>1</td><td>179</td><td></td><td>95</td></tr><tr><td>Hungary</td><td>167</td><td>36</td><td>7</td><td>1</td><td>16</td><td>144</td><td>6</td><td>17</td></tr><tr><td>Lithuania</td><td>160</td><td>17</td><td>1</td><td></td><td>1</td><td>158</td><td>1</td><td>59</td></tr><tr><td>Costa Rica</td><td>158</td><td>24</td><td>2</td><td></td><td>2</td><td>154</td><td>2</td><td>31</td></tr><tr><td>Uruguay</td><td>158</td><td></td><td></td><td></td><td></td><td>158</td><td>2</td><td>45</td></tr><tr><td>Morocco</td><td>143</td><td>28</td><td>4</td><td></td><td>5</td><td>134</td><td>1</td><td>4</td></tr><tr><td>North Macedonia</td><td>136</td><td>21</td><td>2</td><td>1</td><td>1</td><td>133</td><td>1</td><td>65</td></tr><tr><td>Andorra</td><td>133</td><td>20</td><td>1</td><td></td><td>1</td><td>131</td><td>2</td><td>1721</td></tr><tr><td>Bosnia and Herzegovina</td><td>132</td><td>6</td><td>1</td><td></td><td>2</td><td>129</td><td>1</td><td>40</td></tr><tr><td>Jordan</td><td>127</td><td>15</td><td></td><td></td><td>1</td><td>126</td><td></td><td>12</td></tr><tr><td>Vietnam</td><td>123</td><td>10</td><td></td><td></td><td>17</td><td>106</td><td>2</td><td>1</td></tr><tr><td>Faeroe Islands</td><td>118</td><td>3</td><td></td><td></td><td>23</td><td>95</td><td></td><td>2415</td></tr><tr><td>Cyprus</td><td>116</td><td>21</td><td>1</td><td></td><td>3</td><td>112</td><td>3</td><td>96</td></tr><tr><td>Moldova</td><td>109</td><td>15</td><td>1</td><td></td><td>2</td><td>106</td><td>3</td><td>27</td></tr><tr><td>Malta</td><td>107</td><td>17</td><td></td><td></td><td>2</td><td>105</td><td>1</td><td>242</td></tr><tr><td>Albania</td><td>104</td><td>15</td><td>4</td><td>2</td><td>2</td><td>98</td><td>2</td><td>36</td></tr><tr><td>New Zealand</td><td>102</td><td></td><td></td><td></td><td></td><td>102</td><td></td><td>21</td></tr><tr><td>Burkina Faso</td><td>99</td><td>24</td><td>4</td><td></td><td>5</td><td>90</td><td></td><td>5</td></tr><tr><td>Sri Lanka</td><td>97</td><td>15</td><td></td><td></td><td>2</td><td>95</td><td>2</td><td>5</td></tr><tr><td>Brunei</td><td>91</td><td>3</td><td></td><td></td><td>2</td><td>89</td><td>2</td><td>208</td></tr><tr><td>Tunisia</td><td>89</td><td>14</td><td>3</td><td></td><td>1</td><td>85</td><td>11</td><td>8</td></tr><tr><td>Cambodia</td><td>87</td><td>3</td><td></td><td></td><td>2</td><td>85</td><td>1</td><td>5</td></tr><tr><td>Belarus</td><td>81</td><td>5</td><td></td><td></td><td>22</td><td>59</td><td></td><td>9</td></tr><tr><td>Senegal</td><td>79</td><td>12</td><td></td><td></td><td>8</td><td>71</td><td></td><td>5</td></tr><tr><td>Venezuela</td><td>77</td><td>7</td><td></td><td></td><td>15</td><td>62</td><td>2</td><td>3</td></tr><tr><td>Ukraine</td><td>73</td><td></td><td>3</td><td></td><td>1</td><td>69</td><td></td><td>2</td></tr><tr><td>Azerbaijan</td><td>72</td><td>7</td><td>1</td><td></td><td>10</td><td>61</td><td>3</td><td>7</td></tr><tr><td>Réunion</td><td>71</td><td>7</td><td></td><td></td><td>1</td><td>70</td><td></td><td>79</td></tr><tr><td>Oman</td><td>66</td><td>11</td><td></td><td></td><td>17</td><td>49</td><td></td><td>13</td></tr><tr><td>Guadeloupe</td><td>62</td><td>4</td><td>1</td><td></td><td></td><td>61</td><td>4</td><td>155</td></tr><tr><td>Kazakhstan</td><td>62</td><td>2</td><td></td><td></td><td></td><td>62</td><td></td><td>3</td></tr><tr><td>Georgia</td><td>61</td><td>7</td><td></td><td></td><td>8</td><td>53</td><td>1</td><td>15</td></tr><tr><td>Palestine</td><td>59</td><td></td><td></td><td></td><td>17</td><td>42</td><td></td><td>12</td></tr><tr><td>Cameroon</td><td>56</td><td>16</td><td></td><td></td><td>2</td><td>54</td><td></td><td>2</td></tr><tr><td>Martinique</td><td>53</td><td>9</td><td>1</td><td></td><td></td><td>52</td><td>7</td><td>141</td></tr><tr><td>Liechtenstein</td><td>51</td><td>14</td><td></td><td></td><td></td><td>51</td><td></td><td>1338</td></tr><tr><td>Trinidad and Tobago</td><td>51</td><td>1</td><td></td><td></td><td></td><td>51</td><td></td><td>36</td></tr><tr><td>Uzbekistan</td><td>46</td><td>3</td><td></td><td></td><td></td><td>46</td><td></td><td>1</td></tr><tr><td>Afghanistan</td><td>40</td><td></td><td>1</td><td></td><td>1</td><td>38</td><td></td><td>1</td></tr><tr><td>Cuba</td><td>40</td><td>5</td><td>1</td><td></td><td></td><td>39</td><td>3</td><td>4</td></tr><tr><td>Mauritius</td><td>36</td><td>8</td><td>2</td><td></td><td></td><td>34</td><td>1</td><td>28</td></tr><tr><td>DRC</td><td>36</td><td>6</td><td>1</td><td></td><td></td><td>35</td><td></td><td>0.4</td></tr><tr><td>Nigeria</td><td>36</td><td>6</td><td>1</td><td>1</td><td>2</td><td>33</td><td></td><td>0.2</td></tr><tr><td>Channel Islands</td><td>36</td><td>4</td><td></td><td></td><td></td><td>36</td><td></td><td>207</td></tr><tr><td>Bangladesh</td><td>33</td><td>6</td><td>3</td><td>1</td><td>5</td><td>25</td><td></td><td>0.2</td></tr><tr><td>Puerto Rico</td><td>31</td><td>8</td><td>2</td><td>1</td><td>1</td><td>28</td><td></td><td>11</td></tr><tr><td>Guam</td><td>29</td><td>2</td><td>1</td><td></td><td></td><td>28</td><td></td><td>172</td></tr><tr><td>Montenegro</td><td>27</td><td>6</td><td>1</td><td>1</td><td></td><td>26</td><td></td><td>43</td></tr><tr><td>Bolivia</td><td>27</td><td>3</td><td></td><td></td><td></td><td>27</td><td></td><td>2</td></tr><tr><td>Honduras</td><td>27</td><td>1</td><td></td><td></td><td></td><td>27</td><td></td><td>3</td></tr><tr><td>Macao</td><td>25</td><td>3</td><td></td><td></td><td>10</td><td>15</td><td></td><td>39</td></tr><tr><td>Ivory Coast</td><td>25</td><td>11</td><td></td><td></td><td>2</td><td>23</td><td></td><td>0.9</td></tr><tr><td>Ghana</td><td>24</td><td>1</td><td>1</td><td></td><td></td><td>23</td><td></td><td>0.8</td></tr><tr><td>Mayotte</td><td>24</td><td>13</td><td></td><td></td><td></td><td>24</td><td></td><td>88</td></tr><tr><td>Monaco</td><td>23</td><td></td><td></td><td></td><td>1</td><td>22</td><td></td><td>586</td></tr><tr><td>Paraguay</td><td>22</td><td></td><td>1</td><td></td><td></td><td>21</td><td>1</td><td>3</td></tr><tr><td>Guatemala</td><td>20</td><td>1</td><td>1</td><td></td><td></td><td>19</td><td></td><td>1</td></tr><tr><td>Guyana</td><td>20</td><td>1</td><td>1</td><td></td><td></td><td>19</td><td></td><td>25</td></tr><tr><td>French Guiana</td><td>20</td><td>2</td><td></td><td></td><td>6</td><td>14</td><td></td><td>67</td></tr><tr><td>Jamaica</td><td>19</td><td></td><td>1</td><td></td><td>2</td><td>16</td><td></td><td>6</td></tr><tr><td>Rwanda</td><td>19</td><td></td><td></td><td></td><td></td><td>19</td><td></td><td>1</td></tr><tr><td>French Polynesia</td><td>18</td><td></td><td></td><td></td><td></td><td>18</td><td></td><td>64</td></tr><tr><td>Togo</td><td>18</td><td>2</td><td></td><td></td><td></td><td>18</td><td></td><td>2</td></tr><tr><td>Barbados</td><td>17</td><td>3</td><td></td><td></td><td></td><td>17</td><td></td><td>59</td></tr><tr><td>U.S. Virgin Islands</td><td>17</td><td>11</td><td></td><td></td><td></td><td>17</td><td></td><td>163</td></tr><tr><td>Kenya</td><td>16</td><td>1</td><td></td><td></td><td></td><td>16</td><td></td><td>0.3</td></tr><tr><td>Kyrgyzstan</td><td>16</td><td>2</td><td></td><td></td><td></td><td>16</td><td></td><td>2</td></tr><tr><td>Gibraltar</td><td>15</td><td></td><td></td><td></td><td>5</td><td>10</td><td></td><td>445</td></tr><tr><td>Isle of Man</td><td>13</td><td>8</td><td></td><td></td><td></td><td>13</td><td></td><td>153</td></tr><tr><td>Maldives</td><td>13</td><td></td><td></td><td></td><td>5</td><td>8</td><td></td><td>24</td></tr><tr><td>Madagascar</td><td>12</td><td>9</td><td></td><td></td><td></td><td>12</td><td></td><td>0.4</td></tr><tr><td>Tanzania</td><td>12</td><td></td><td></td><td></td><td></td><td>12</td><td></td><td>0.2</td></tr><tr><td>Ethiopia</td><td>11</td><td></td><td></td><td></td><td></td><td>11</td><td></td><td>0.10</td></tr><tr><td>Mongolia</td><td>10</td><td></td><td></td><td></td><td></td><td>10</td><td></td><td>3</td></tr><tr><td>Aruba</td><td>9</td><td></td><td></td><td></td><td>1</td><td>8</td><td></td><td>84</td></tr><tr><td>Equatorial Guinea</td><td>9</td><td>3</td><td></td><td></td><td></td><td>9</td><td></td><td>6</td></tr><tr><td>New Caledonia</td><td>8</td><td>4</td><td></td><td></td><td></td><td>8</td><td></td><td>28</td></tr><tr><td>Saint Martin</td><td>8</td><td>3</td><td></td><td></td><td></td><td>8</td><td></td><td>207</td></tr><tr><td>Seychelles</td><td>7</td><td></td><td></td><td></td><td></td><td>7</td><td></td><td>71</td></tr><tr><td>Bermuda</td><td>6</td><td></td><td></td><td></td><td></td><td>6</td><td></td><td>96</td></tr><tr><td>Haiti</td><td>6</td><td>4</td><td></td><td></td><td></td><td>6</td><td></td><td>0.5</td></tr><tr><td>Gabon</td><td>5</td><td></td><td>1</td><td></td><td></td><td>4</td><td></td><td>2</td></tr><tr><td>Suriname</td><td>5</td><td></td><td></td><td></td><td></td><td>5</td><td></td><td>9</td></tr><tr><td>Curaçao</td><td>4</td><td>1</td><td>1</td><td></td><td></td><td>3</td><td></td><td>24</td></tr><tr><td>Bahamas</td><td>4</td><td></td><td></td><td></td><td></td><td>4</td><td></td><td>10</td></tr><tr><td>Congo</td><td>4</td><td>1</td><td></td><td></td><td></td><td>4</td><td></td><td>0.7</td></tr><tr><td>Greenland</td><td>4</td><td></td><td></td><td></td><td></td><td>4</td><td></td><td>70</td></tr><tr><td>Guinea</td><td>4</td><td>2</td><td></td><td></td><td></td><td>4</td><td></td><td>0.3</td></tr><tr><td>Namibia</td><td>4</td><td>1</td><td></td><td></td><td></td><td>4</td><td></td><td>2</td></tr><tr><td>Eswatini</td><td>4</td><td></td><td></td><td></td><td></td><td>4</td><td></td><td>3</td></tr><tr><td>Cayman Islands</td><td>3</td><td></td><td>1</td><td></td><td></td><td>2</td><td></td><td>46</td></tr><tr><td>Zimbabwe</td><td>3</td><td></td><td>1</td><td>1</td><td></td><td>2</td><td></td><td>0.2</td></tr><tr><td>Angola</td><td>3</td><td>1</td><td></td><td></td><td></td><td>3</td><td></td><td>0.09</td></tr><tr><td>Antigua and Barbuda</td><td>3</td><td>2</td><td></td><td></td><td></td><td>3</td><td></td><td>31</td></tr><tr><td>Cabo Verde</td><td>3</td><td></td><td></td><td></td><td></td><td>3</td><td></td><td>5</td></tr><tr><td>CAR</td><td>3</td><td></td><td></td><td></td><td></td><td>3</td><td></td><td>0.6</td></tr><tr><td>Djibouti</td><td>3</td><td>2</td><td></td><td></td><td></td><td>3</td><td></td><td>3</td></tr><tr><td>El Salvador</td><td>3</td><td></td><td></td><td></td><td></td><td>3</td><td></td><td>0.5</td></tr><tr><td>Fiji</td><td>3</td><td>1</td><td></td><td></td><td></td><td>3</td><td></td><td>3</td></tr><tr><td>Liberia</td><td>3</td><td></td><td></td><td></td><td></td><td>3</td><td></td><td>0.6</td></tr><tr><td>St. Barth</td><td>3</td><td></td><td></td><td></td><td></td><td>3</td><td></td><td>304</td></tr><tr><td>Saint Lucia</td><td>3</td><td>1</td><td></td><td></td><td></td><td>3</td><td></td><td>16</td></tr><tr><td>Zambia</td><td>3</td><td></td><td></td><td></td><td></td><td>3</td><td></td><td>0.2</td></tr><tr><td>Gambia</td><td>2</td><td>1</td><td>1</td><td>1</td><td></td><td>1</td><td></td><td>0.8</td></tr><tr><td>Sudan</td><td>2</td><td></td><td>1</td><td></td><td></td><td>1</td><td></td><td>0.05</td></tr><tr><td>Nepal</td><td>2</td><td>1</td><td></td><td></td><td>1</td><td>1</td><td></td><td>0.07</td></tr><tr><td>Benin</td><td>2</td><td></td><td></td><td></td><td></td><td>2</td><td></td><td>0.2</td></tr><tr><td>Bhutan</td><td>2</td><td></td><td></td><td></td><td></td><td>2</td><td></td><td>3</td></tr><tr><td>Mauritania</td><td>2</td><td></td><td></td><td></td><td></td><td>2</td><td></td><td>0.4</td></tr><tr><td>Myanmar</td><td>2</td><td>2</td><td></td><td></td><td></td><td>2</td><td></td><td>0.04</td></tr><tr><td>Nicaragua</td><td>2</td><td></td><td></td><td></td><td></td><td>2</td><td></td><td>0.3</td></tr><tr><td>Niger</td><td>2</td><td></td><td></td><td></td><td></td><td>2</td><td></td><td>0.08</td></tr><tr><td>Sint Maarten</td><td>2</td><td>1</td><td></td><td></td><td></td><td>2</td><td></td><td>47</td></tr><tr><td>Belize</td><td>1</td><td>1</td><td></td><td></td><td></td><td>1</td><td></td><td>3</td></tr><tr><td>Chad</td><td>1</td><td></td><td></td><td></td><td></td><td>1</td><td></td><td>0.06</td></tr><tr><td>Dominica</td><td>1</td><td></td><td></td><td></td><td></td><td>1</td><td></td><td>14</td></tr><tr><td>Eritrea</td><td>1</td><td></td><td></td><td></td><td></td><td>1</td><td></td><td>0.3</td></tr><tr><td>Grenada</td><td>1</td><td></td><td></td><td></td><td></td><td>1</td><td></td><td>9</td></tr><tr><td>Vatican City</td><td>1</td><td></td><td></td><td></td><td></td><td>1</td><td></td><td>1248</td></tr><tr><td>Montserrat</td><td>1</td><td></td><td></td><td></td><td></td><td>1</td><td></td><td>200</td></tr><tr><td>Mozambique</td><td>1</td><td></td><td></td><td></td><td></td><td>1</td><td></td><td>0.03</td></tr><tr><td>Papua New Guinea</td><td>1</td><td></td><td></td><td></td><td></td><td>1</td><td></td><td>0.1</td></tr><tr><td>St. Vincent Grenadines</td><td>1</td><td></td><td></td><td></td><td></td><td>1</td><td></td><td>9</td></tr><tr><td>Somalia</td><td>1</td><td></td><td></td><td></td><td></td><td>1</td><td></td><td>0.06</td></tr><tr><td>Syria</td><td>1</td><td></td><td></td><td></td><td></td><td>1</td><td></td><td>0.06</td></tr><tr><td>Timor-Leste</td><td>1</td><td></td><td></td><td></td><td></td><td>1</td><td></td><td>0.8</td></tr><tr><td>Turks and Caicos</td><td>1</td><td>1</td><td></td><td></td><td></td><td>1</td><td></td><td>26</td></tr><tr><td>Uganda</td><td>1</td><td></td><td></td><td></td><td></td><td>1</td><td></td><td>0.02</td></tr>'"
      ]
     },
     "execution_count": 102,
     "metadata": {},
     "output_type": "execute_result"
    }
   ],
   "source": [
    "html_table(table_data_list)"
   ]
  },
  {
   "cell_type": "code",
   "execution_count": 88,
   "metadata": {},
   "outputs": [
    {
     "data": {
      "text/plain": [
       "[['China', '81,093', '+39', '3,270', '+9', '72,703', '5,120', '1,749', '56'],\n",
       " ['Italy',\n",
       "  '63,927',\n",
       "  '+4,789',\n",
       "  '6,077',\n",
       "  '+601',\n",
       "  '7,432',\n",
       "  '50,418',\n",
       "  '3,204',\n",
       "  '1,057'],\n",
       " ['USA', '42,163', '+8,617', '512', '+93', '295', '41,356', '1,040', '127'],\n",
       " ['Spain',\n",
       "  '33,089',\n",
       "  '+4,321',\n",
       "  '2,207',\n",
       "  '+435',\n",
       "  '3,355',\n",
       "  '27,527',\n",
       "  '2,355',\n",
       "  '708'],\n",
       " ['Germany', '29,056', '+4,183', '118', '+24', '422', '28,516', '23', '347'],\n",
       " ['Iran', '23,049', '+1,411', '1,812', '+127', '8,376', '12,861', '', '274'],\n",
       " ['France',\n",
       "  '19,856',\n",
       "  '+3,838',\n",
       "  '860',\n",
       "  '+186',\n",
       "  '2,200',\n",
       "  '16,796',\n",
       "  '2,082',\n",
       "  '304'],\n",
       " ['S. Korea', '8,961', '+64', '111', '+7', '3,166', '5,684', '59', '175'],\n",
       " ['Switzerland',\n",
       "  '8,547',\n",
       "  '+1,073',\n",
       "  '118',\n",
       "  '+20',\n",
       "  '131',\n",
       "  '8,298',\n",
       "  '141',\n",
       "  '988'],\n",
       " ['UK', '6,650', '+967', '335', '+54', '135', '6,180', '20', '98'],\n",
       " ['Netherlands', '4,749', '+545', '213', '+34', '2', '4,534', '435', '277'],\n",
       " ['Austria', '4,468', '+886', '21', '+5', '9', '4,438', '14', '496'],\n",
       " ['Belgium', '3,743', '+342', '88', '+13', '401', '3,254', '322', '323'],\n",
       " ['Norway', '2,547', '+162', '10', '+3', '6', '2,531', '41', '470'],\n",
       " ['Portugal', '2,060', '+460', '23', '+9', '14', '2,023', '47', '202'],\n",
       " ['Sweden', '2,046', '+112', '25', '+4', '16', '2,005', '104', '203'],\n",
       " ['Canada', '2,035', '+565', '23', '+3', '320', '1,692', '1', '54'],\n",
       " ['Australia', '1,717', '+108', '7', '', '88', '1,622', '11', '67'],\n",
       " ['Brazil', '1,696', '+150', '25', '', '2', '1,669', '18', '8'],\n",
       " ['Turkey', '1,529', '+293', '37', '+7', '', '1,492', '', '18'],\n",
       " ['Malaysia', '1,518', '+212', '14', '+4', '159', '1,345', '57', '47'],\n",
       " ['Denmark', '1,450', '+55', '24', '+11', '1', '1,425', '55', '250'],\n",
       " ['Israel', '1,442', '+371', '1', '', '41', '1,400', '29', '167'],\n",
       " ['Czechia', '1,236', '+116', '1', '', '7', '1,228', '19', '115'],\n",
       " ['Japan', '1,128', '+27', '42', '+1', '235', '851', '49', '9'],\n",
       " ['Ireland', '1,125', '+219', '6', '+2', '5', '1,114', '29', '228'],\n",
       " ['Ecuador', '981', '+192', '18', '+4', '3', '960', '2', '56'],\n",
       " ['Luxembourg', '875', '+77', '8', '', '6', '861', '3', '1,398'],\n",
       " ['Pakistan', '873', '+97', '6', '+1', '13', '854', '', '4'],\n",
       " ['Poland', '749', '+115', '8', '+1', '13', '728', '3', '20'],\n",
       " ['Chile', '746', '+114', '2', '+1', '11', '733', '7', '39'],\n",
       " ['Thailand', '721', '+122', '1', '', '52', '668', '7', '10'],\n",
       " ['Diamond Princess', '712', '', '8', '', '567', '137', '15', ''],\n",
       " ['Finland', '700', '+74', '1', '', '10', '689', '13', '126'],\n",
       " ['Greece', '695', '+71', '17', '+2', '29', '649', '35', '67'],\n",
       " ['Iceland', '588', '+20', '1', '', '51', '536', '14', '1,723'],\n",
       " ['Indonesia', '579', '+65', '49', '+1', '30', '500', '', '2'],\n",
       " ['Romania', '576', '+143', '7', '+4', '73', '496', '15', '30'],\n",
       " ['Saudi Arabia', '562', '+51', '', '', '19', '543', '', '16'],\n",
       " ['Singapore', '509', '+54', '2', '', '152', '355', '14', '87'],\n",
       " ['Qatar', '501', '+7', '', '', '33', '468', '6', '174'],\n",
       " ['India', '499', '+103', '10', '+3', '34', '455', '', '0.4'],\n",
       " ['Philippines', '462', '+82', '33', '+8', '18', '411', '1', '4'],\n",
       " ['Slovenia', '442', '+28', '3', '+1', '', '439', '12', '213'],\n",
       " ['Russia', '438', '+71', '1', '', '17', '420', '', '3'],\n",
       " ['South Africa', '402', '+128', '', '', '4', '398', '', '7'],\n",
       " ['Peru', '395', '+32', '5', '', '1', '389', '19', '12'],\n",
       " ['Bahrain', '377', '+43', '2', '', '164', '211', '3', '222'],\n",
       " ['Egypt', '366', '+39', '19', '+5', '68', '279', '', '4'],\n",
       " ['Hong Kong', '356', '+38', '4', '', '100', '252', '4', '47'],\n",
       " ['Estonia', '352', '+26', '', '', '4', '348', '4', '265'],\n",
       " ['Mexico', '316', '+65', '2', '', '4', '310', '1', '2'],\n",
       " ['Croatia', '315', '+61', '1', '', '5', '309', '5', '77'],\n",
       " ['Panama', '313', '', '3', '', '1', '309', '7', '73'],\n",
       " ['Colombia', '277', '+46', '3', '+1', '3', '271', '', '5'],\n",
       " ['Lebanon', '267', '+19', '4', '', '8', '255', '4', '39'],\n",
       " ['Iraq', '266', '+33', '23', '+3', '62', '181', '', '7'],\n",
       " ['Argentina', '266', '', '4', '', '27', '235', '', '6'],\n",
       " ['Serbia', '249', '+27', '2', '', '3', '244', '12', '28'],\n",
       " ['Dominican Republic', '245', '+43', '3', '', '', '242', '', '23'],\n",
       " ['Armenia', '235', '+41', '', '', '2', '233', '6', '79'],\n",
       " ['Algeria', '230', '+29', '17', '', '65', '148', '', '5'],\n",
       " ['Bulgaria', '201', '+14', '3', '', '3', '195', '8', '29'],\n",
       " ['UAE', '198', '+45', '2', '', '41', '155', '2', '20'],\n",
       " ['Taiwan', '195', '+26', '2', '', '28', '165', '', '8'],\n",
       " ['Kuwait', '189', '+1', '', '', '30', '159', '5', '44'],\n",
       " ['San Marino', '187', '+12', '20', '', '4', '163', '13', '5,511'],\n",
       " ['Slovakia', '186', '+1', '', '', '7', '179', '2', '34'],\n",
       " ['Latvia', '180', '+41', '', '', '1', '179', '', '95'],\n",
       " ['Hungary', '167', '+36', '7', '+1', '16', '144', '6', '17'],\n",
       " ['Lithuania', '160', '+17', '1', '', '1', '158', '1', '59'],\n",
       " ['Costa Rica', '158', '+24', '2', '', '2', '154', '2', '31'],\n",
       " ['Uruguay', '158', '', '', '', '', '158', '2', '45'],\n",
       " ['Morocco', '143', '+28', '4', '', '5', '134', '1', '4'],\n",
       " ['North Macedonia', '136', '+21', '2', '+1', '1', '133', '1', '65'],\n",
       " ['Andorra', '133', '+20', '1', '', '1', '131', '2', '1,721'],\n",
       " ['Bosnia and Herzegovina', '132', '+6', '1', '', '2', '129', '1', '40'],\n",
       " ['Jordan', '127', '+15', '', '', '1', '126', '', '12'],\n",
       " ['Vietnam', '123', '+10', '', '', '17', '106', '2', '1'],\n",
       " ['Faeroe Islands', '118', '+3', '', '', '23', '95', '', '2,415'],\n",
       " ['Cyprus', '116', '+21', '1', '', '3', '112', '3', '96'],\n",
       " ['Moldova', '109', '+15', '1', '', '2', '106', '3', '27'],\n",
       " ['Malta', '107', '+17', '', '', '2', '105', '1', '242'],\n",
       " ['Albania', '104', '+15', '4', '+2', '2', '98', '2', '36'],\n",
       " ['New Zealand', '102', '', '', '', '', '102', '', '21'],\n",
       " ['Burkina Faso', '99', '+24', '4', '', '5', '90', '', '5'],\n",
       " ['Sri Lanka', '97', '+15', '', '', '2', '95', '2', '5'],\n",
       " ['Brunei', '91', '+3', '', '', '2', '89', '2', '208'],\n",
       " ['Tunisia', '89', '+14', '3', '', '1', '85', '11', '8'],\n",
       " ['Cambodia', '87', '+3', '', '', '2', '85', '1', '5'],\n",
       " ['Belarus', '81', '+5', '', '', '22', '59', '', '9'],\n",
       " ['Senegal', '79', '+12', '', '', '8', '71', '', '5'],\n",
       " ['Venezuela', '77', '+7', '', '', '15', '62', '2', '3'],\n",
       " ['Ukraine', '73', '', '3', '', '1', '69', '', '2'],\n",
       " ['Azerbaijan', '72', '+7', '1', '', '10', '61', '3', '7'],\n",
       " ['Réunion', '71', '+7', '', '', '1', '70', '', '79'],\n",
       " ['Oman', '66', '+11', '', '', '17', '49', '', '13'],\n",
       " ['Guadeloupe', '62', '+4', '1', '', '', '61', '4', '155'],\n",
       " ['Kazakhstan', '62', '+2', '', '', '', '62', '', '3'],\n",
       " ['Georgia', '61', '+7', '', '', '8', '53', '1', '15'],\n",
       " ['Palestine', '59', '', '', '', '17', '42', '', '12'],\n",
       " ['Cameroon', '56', '+16', '', '', '2', '54', '', '2'],\n",
       " ['Martinique', '53', '+9', '1', '', '', '52', '7', '141'],\n",
       " ['Liechtenstein', '51', '+14', '', '', '', '51', '', '1,338'],\n",
       " ['Trinidad and Tobago', '51', '+1', '', '', '', '51', '', '36'],\n",
       " ['Uzbekistan', '46', '+3', '', '', '', '46', '', '1'],\n",
       " ['Afghanistan', '40', '', '1', '', '1', '38', '', '1'],\n",
       " ['Cuba', '40', '+5', '1', '', '', '39', '3', '4'],\n",
       " ['Mauritius', '36', '+8', '2', '', '', '34', '1', '28'],\n",
       " ['DRC', '36', '+6', '1', '', '', '35', '', '0.4'],\n",
       " ['Nigeria', '36', '+6', '1', '+1', '2', '33', '', '0.2'],\n",
       " ['Channel Islands', '36', '+4', '', '', '', '36', '', '207'],\n",
       " ['Bangladesh', '33', '+6', '3', '+1', '5', '25', '', '0.2'],\n",
       " ['Puerto Rico', '31', '+8', '2', '+1', '1', '28', '', '11'],\n",
       " ['Guam', '29', '+2', '1', '', '', '28', '', '172'],\n",
       " ['Montenegro', '27', '+6', '1', '+1', '', '26', '', '43'],\n",
       " ['Bolivia', '27', '+3', '', '', '', '27', '', '2'],\n",
       " ['Honduras', '27', '+1', '', '', '', '27', '', '3'],\n",
       " ['Macao', '25', '+3', '', '', '10', '15', '', '39'],\n",
       " ['Ivory Coast', '25', '+11', '', '', '2', '23', '', '0.9'],\n",
       " ['Ghana', '24', '+1', '1', '', '', '23', '', '0.8'],\n",
       " ['Mayotte', '24', '+13', '', '', '', '24', '', '88'],\n",
       " ['Monaco', '23', '', '', '', '1', '22', '', '586'],\n",
       " ['Paraguay', '22', '', '1', '', '', '21', '1', '3'],\n",
       " ['Guatemala', '20', '+1', '1', '', '', '19', '', '1'],\n",
       " ['Guyana', '20', '+1', '1', '', '', '19', '', '25'],\n",
       " ['French Guiana', '20', '+2', '', '', '6', '14', '', '67'],\n",
       " ['Jamaica', '19', '', '1', '', '2', '16', '', '6'],\n",
       " ['Rwanda', '19', '', '', '', '', '19', '', '1'],\n",
       " ['French Polynesia', '18', '', '', '', '', '18', '', '64'],\n",
       " ['Togo', '18', '+2', '', '', '', '18', '', '2'],\n",
       " ['Barbados', '17', '+3', '', '', '', '17', '', '59'],\n",
       " ['U.S. Virgin Islands', '17', '+11', '', '', '', '17', '', '163'],\n",
       " ['Kenya', '16', '+1', '', '', '', '16', '', '0.3'],\n",
       " ['Kyrgyzstan', '16', '+2', '', '', '', '16', '', '2'],\n",
       " ['Gibraltar', '15', '', '', '', '5', '10', '', '445'],\n",
       " ['Isle of Man', '13', '+8', '', '', '', '13', '', '153'],\n",
       " ['Maldives', '13', '', '', '', '5', '8', '', '24'],\n",
       " ['Madagascar', '12', '+9', '', '', '', '12', '', '0.4'],\n",
       " ['Tanzania', '12', '', '', '', '', '12', '', '0.2'],\n",
       " ['Ethiopia', '11', '', '', '', '', '11', '', '0.10'],\n",
       " ['Mongolia', '10', '', '', '', '', '10', '', '3'],\n",
       " ['Aruba', '9', '', '', '', '1', '8', '', '84'],\n",
       " ['Equatorial Guinea', '9', '+3', '', '', '', '9', '', '6'],\n",
       " ['New Caledonia', '8', '+4', '', '', '', '8', '', '28'],\n",
       " ['Saint Martin', '8', '+3', '', '', '', '8', '', '207'],\n",
       " ['Seychelles', '7', '', '', '', '', '7', '', '71'],\n",
       " ['Bermuda', '6', '', '', '', '', '6', '', '96'],\n",
       " ['Haiti', '6', '+4', '', '', '', '6', '', '0.5'],\n",
       " ['Gabon', '5', '', '1', '', '', '4', '', '2'],\n",
       " ['Suriname', '5', '', '', '', '', '5', '', '9'],\n",
       " ['Curaçao', '4', '+1', '1', '', '', '3', '', '24'],\n",
       " ['Bahamas', '4', '', '', '', '', '4', '', '10'],\n",
       " ['Congo', '4', '+1', '', '', '', '4', '', '0.7'],\n",
       " ['Greenland', '4', '', '', '', '', '4', '', '70'],\n",
       " ['Guinea', '4', '+2', '', '', '', '4', '', '0.3'],\n",
       " ['Namibia', '4', '+1', '', '', '', '4', '', '2'],\n",
       " ['Eswatini', '4', '', '', '', '', '4', '', '3'],\n",
       " ['Cayman Islands', '3', '', '1', '', '', '2', '', '46'],\n",
       " ['Zimbabwe', '3', '', '1', '+1', '', '2', '', '0.2'],\n",
       " ['Angola', '3', '+1', '', '', '', '3', '', '0.09'],\n",
       " ['Antigua and Barbuda', '3', '+2', '', '', '', '3', '', '31'],\n",
       " ['Cabo Verde', '3', '', '', '', '', '3', '', '5'],\n",
       " ['CAR', '3', '', '', '', '', '3', '', '0.6'],\n",
       " ['Djibouti', '3', '+2', '', '', '', '3', '', '3'],\n",
       " ['El Salvador', '3', '', '', '', '', '3', '', '0.5'],\n",
       " ['Fiji', '3', '+1', '', '', '', '3', '', '3'],\n",
       " ['Liberia', '3', '', '', '', '', '3', '', '0.6'],\n",
       " ['St. Barth', '3', '', '', '', '', '3', '', '304'],\n",
       " ['Saint Lucia', '3', '+1', '', '', '', '3', '', '16'],\n",
       " ['Zambia', '3', '', '', '', '', '3', '', '0.2'],\n",
       " ['Gambia', '2', '+1', '1', '+1', '', '1', '', '0.8'],\n",
       " ['Sudan', '2', '', '1', '', '', '1', '', '0.05'],\n",
       " ['Nepal', '2', '+1', '', '', '1', '1', '', '0.07'],\n",
       " ['Benin', '2', '', '', '', '', '2', '', '0.2'],\n",
       " ['Bhutan', '2', '', '', '', '', '2', '', '3'],\n",
       " ['Mauritania', '2', '', '', '', '', '2', '', '0.4'],\n",
       " ['Myanmar', '2', '+2', '', '', '', '2', '', '0.04'],\n",
       " ['Nicaragua', '2', '', '', '', '', '2', '', '0.3'],\n",
       " ['Niger', '2', '', '', '', '', '2', '', '0.08'],\n",
       " ['Sint Maarten', '2', '+1', '', '', '', '2', '', '47'],\n",
       " ['Belize', '1', '+1', '', '', '', '1', '', '3'],\n",
       " ['Chad', '1', '', '', '', '', '1', '', '0.06'],\n",
       " ['Dominica', '1', '', '', '', '', '1', '', '14'],\n",
       " ['Eritrea', '1', '', '', '', '', '1', '', '0.3'],\n",
       " ['Grenada', '1', '', '', '', '', '1', '', '9'],\n",
       " ['Vatican City', '1', '', '', '', '', '1', '', '1,248'],\n",
       " ['Montserrat', '1', '', '', '', '', '1', '', '200'],\n",
       " ['Mozambique', '1', '', '', '', '', '1', '', '0.03'],\n",
       " ['Papua New Guinea', '1', '', '', '', '', '1', '', '0.1'],\n",
       " ['St. Vincent Grenadines', '1', '', '', '', '', '1', '', '9'],\n",
       " ['Somalia', '1', '', '', '', '', '1', '', '0.06'],\n",
       " ['Syria', '1', '', '', '', '', '1', '', '0.06'],\n",
       " ['Timor-Leste', '1', '', '', '', '', '1', '', '0.8'],\n",
       " ['Turks and Caicos', '1', '+1', '', '', '', '1', '', '26'],\n",
       " ['Uganda', '1', '', '', '', '', '1', '', '0.02']]"
      ]
     },
     "execution_count": 88,
     "metadata": {},
     "output_type": "execute_result"
    }
   ],
   "source": [
    "table_data_list"
   ]
  },
  {
   "cell_type": "code",
   "execution_count": 74,
   "metadata": {},
   "outputs": [
    {
     "name": "stdout",
     "output_type": "stream",
     "text": [
      "[ 1 ,   2 ,   3 ]\n",
      "a b c\n"
     ]
    }
   ],
   "source": [
    "x=[1, 2, 3]\n",
    "print(' '.join(str(x)))\n",
    "y=['a', 'b', 'c']\n",
    "print(' '.join(y))"
   ]
  },
  {
   "cell_type": "code",
   "execution_count": 64,
   "metadata": {},
   "outputs": [
    {
     "data": {
      "text/plain": [
       "country_other           ChinaItalyUSASpainGermanyIranFranceS. KoreaSwi...\n",
       "total_cases                                                        374219\n",
       "new_cases                                                           36789\n",
       "total_deaths                                                        16335\n",
       "new_deaths                                                           1697\n",
       "total_recovered                                                    101520\n",
       "active_cases                                                       256364\n",
       "serioues_critical                                                   12211\n",
       "tot_cases_per_1M_pop                                                29358\n",
       "dtype: object"
      ]
     },
     "execution_count": 64,
     "metadata": {},
     "output_type": "execute_result"
    }
   ],
   "source": [
    "df=pd.DataFrame(table_data)\n",
    "df.replace('', 0, inplace=True)\n",
    "df.sum()"
   ]
  }
 ],
 "metadata": {
  "kernelspec": {
   "display_name": "Python 3",
   "language": "python",
   "name": "python3"
  },
  "language_info": {
   "codemirror_mode": {
    "name": "ipython",
    "version": 3
   },
   "file_extension": ".py",
   "mimetype": "text/x-python",
   "name": "python",
   "nbconvert_exporter": "python",
   "pygments_lexer": "ipython3",
   "version": "3.7.4"
  }
 },
 "nbformat": 4,
 "nbformat_minor": 2
}
